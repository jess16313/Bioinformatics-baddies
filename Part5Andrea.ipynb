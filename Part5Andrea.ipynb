{
 "cells": [
  {
   "cell_type": "code",
   "execution_count": 1,
   "id": "a9320cb3-4d13-4b53-bf98-49d8c8f51146",
   "metadata": {
    "editable": true,
    "slideshow": {
     "slide_type": ""
    },
    "tags": []
   },
   "outputs": [],
   "source": [
    "import pandas as pd\n",
    "import numpy as np\n",
    "import matplotlib.pyplot as plt"
   ]
  },
  {
   "cell_type": "code",
   "execution_count": 2,
   "id": "2bd4bc48-e3c5-4cf9-b223-75688cce932f",
   "metadata": {
    "editable": true,
    "slideshow": {
     "slide_type": ""
    },
    "tags": []
   },
   "outputs": [],
   "source": [
    "metadata = pd.read_csv(\"SRP181622/metadata_SRP181622.tsv\", sep='\\t', index_col=0)\n",
    "de_results = pd.read_csv(\"results/top_50_DEGs.csv\", sep='\\t', index_col=0)\n",
    "df = pd.read_csv(\"results/gene.tsv\", sep='\\t', index_col=0)"
   ]
  },
  {
   "cell_type": "code",
   "execution_count": 3,
   "id": "35b1893e-637a-4746-9e37-84b28758a8e5",
   "metadata": {},
   "outputs": [],
   "source": [
    "df_transpose = df.T"
   ]
  },
  {
   "cell_type": "code",
   "execution_count": 4,
   "id": "07ffd09f-613f-428a-93b4-d29bb56ceff2",
   "metadata": {},
   "outputs": [],
   "source": [
    "# create a list to hold if a sample type (Control or Stress)\n",
    "sample_type = []\n",
    "for sample in metadata.index:\n",
    "    if (sample in df_transpose.index):\n",
    "        if ('Control' in metadata['refinebio_title'][sample]):\n",
    "            sample_type.append('Control')\n",
    "        else:\n",
    "            sample_type.append('Stress')"
   ]
  },
  {
   "cell_type": "code",
   "execution_count": 5,
   "id": "c6d5c39a-72b0-4d96-8019-21964b19ad17",
   "metadata": {},
   "outputs": [],
   "source": [
    "df_gene = pd.DataFrame(de_results)"
   ]
  },
  {
   "cell_type": "code",
   "execution_count": 6,
   "id": "03bcf8da-fc87-49b6-8e00-f36a1455d6fb",
   "metadata": {},
   "outputs": [],
   "source": [
    "# create a dictionary to hold if a sample is control or not\n",
    "is_control = {}\n",
    "for sample in metadata.index:\n",
    "    if (sample in df_transpose.index):\n",
    "        is_control[sample] = ('Control' in metadata['refinebio_title'][sample])"
   ]
  },
  {
   "cell_type": "code",
   "execution_count": 7,
   "id": "375de5a4-603d-4a24-8498-b6ccb8a608b4",
   "metadata": {},
   "outputs": [],
   "source": [
    "y = ['Control' if is_control[sample] else 'Stressed' for sample in df_transpose.index]"
   ]
  },
  {
   "cell_type": "code",
   "execution_count": 8,
   "id": "2145dcd4-d539-47bc-9acb-4e10f5e61c23",
   "metadata": {},
   "outputs": [],
   "source": [
    "control_samples = [sample for sample, group in zip(df_transpose.index, y) if group == 'Control']\n",
    "stress_samples  = [sample for sample, group in zip(df_transpose.index, y) if group == 'Stressed']\n"
   ]
  },
  {
   "cell_type": "code",
   "execution_count": null,
   "id": "b3f396c4-702e-41bf-9a47-171d41d3ea26",
   "metadata": {},
   "outputs": [],
   "source": [
    "from scipy.stats import ranksums\n",
    "import pandas as pd\n",
    "\n",
    "results = []\n",
    "\n",
    "for gene in df_transpose.columns:  # iterate over genes\n",
    "    control_vals = df_transpose.loc[control_samples, gene].values\n",
    "    stress_vals  = df_transpose.loc[stress_samples, gene].values\n",
    "    \n",
    "    stat, pval = ranksums(control_vals, stress_vals)\n",
    "    results.append([gene, stat, pval])\n",
    "\n",
    "wilcoxon_df = pd.DataFrame(results, columns=[\"gene\", \"statistic\", \"pvalue\"])\n",
    "wilcoxon_df.head()"
   ]
  }
 ],
 "metadata": {
  "kernelspec": {
   "display_name": "Python 3 (ipykernel)",
   "language": "python",
   "name": "python3"
  },
  "language_info": {
   "codemirror_mode": {
    "name": "ipython",
    "version": 3
   },
   "file_extension": ".py",
   "mimetype": "text/x-python",
   "name": "python",
   "nbconvert_exporter": "python",
   "pygments_lexer": "ipython3",
   "version": "3.12.3"
  }
 },
 "nbformat": 4,
 "nbformat_minor": 5
}
