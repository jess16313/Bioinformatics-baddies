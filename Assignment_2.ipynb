{
 "cells": [
  {
   "cell_type": "markdown",
   "id": "5e32add7-94b4-4d72-9219-f192230d7dce",
   "metadata": {},
   "source": [
    "# **Assignment 2**"
   ]
  },
  {
   "cell_type": "markdown",
   "id": "a8309fbb-270d-488f-9373-523d3da7102a",
   "metadata": {},
   "source": [
    "## Part 1"
   ]
  },
  {
   "cell_type": "code",
   "execution_count": 84,
   "id": "cf64417c-6a10-4a1c-8cc8-30c0bed07336",
   "metadata": {},
   "outputs": [],
   "source": [
    "import pandas as pd\n",
    "import numpy as np\n",
    "import matplotlib.pyplot as plt"
   ]
  },
  {
   "cell_type": "code",
   "execution_count": 85,
   "id": "08b09d29-4938-4b25-a03a-5b91cfcaa088",
   "metadata": {},
   "outputs": [],
   "source": [
    "df = pd.read_csv(\"gene.tsv\", sep='\\t', index_col=0)"
   ]
  },
  {
   "cell_type": "code",
   "execution_count": 86,
   "id": "d618e495-143b-4fb3-b626-749ad9bd92b3",
   "metadata": {},
   "outputs": [
    {
     "name": "stdout",
     "output_type": "stream",
     "text": [
      "<class 'pandas.core.frame.DataFrame'>\n",
      "Index: 37779 entries, Gnai3 to 4930524O05Rik\n",
      "Columns: 307 entries, SRR8477377 to SRR8477710\n",
      "dtypes: float64(307)\n",
      "memory usage: 88.8+ MB\n"
     ]
    }
   ],
   "source": [
    "# gather info on our dataframe\n",
    "df.info()"
   ]
  },
  {
   "cell_type": "code",
   "execution_count": 87,
   "id": "1c93309d-cdc0-49f0-b519-ba1e02931065",
   "metadata": {},
   "outputs": [
    {
     "data": {
      "text/html": [
       "<div>\n",
       "<style scoped>\n",
       "    .dataframe tbody tr th:only-of-type {\n",
       "        vertical-align: middle;\n",
       "    }\n",
       "\n",
       "    .dataframe tbody tr th {\n",
       "        vertical-align: top;\n",
       "    }\n",
       "\n",
       "    .dataframe thead th {\n",
       "        text-align: right;\n",
       "    }\n",
       "</style>\n",
       "<table border=\"1\" class=\"dataframe\">\n",
       "  <thead>\n",
       "    <tr style=\"text-align: right;\">\n",
       "      <th></th>\n",
       "      <th>SRR8477377</th>\n",
       "      <th>SRR8477378</th>\n",
       "      <th>SRR8477379</th>\n",
       "      <th>SRR8477380</th>\n",
       "      <th>SRR8477381</th>\n",
       "      <th>SRR8477383</th>\n",
       "      <th>SRR8477384</th>\n",
       "      <th>SRR8477385</th>\n",
       "      <th>SRR8477386</th>\n",
       "      <th>SRR8477387</th>\n",
       "      <th>...</th>\n",
       "      <th>SRR8477701</th>\n",
       "      <th>SRR8477702</th>\n",
       "      <th>SRR8477703</th>\n",
       "      <th>SRR8477704</th>\n",
       "      <th>SRR8477705</th>\n",
       "      <th>SRR8477706</th>\n",
       "      <th>SRR8477707</th>\n",
       "      <th>SRR8477708</th>\n",
       "      <th>SRR8477709</th>\n",
       "      <th>SRR8477710</th>\n",
       "    </tr>\n",
       "    <tr>\n",
       "      <th>gene</th>\n",
       "      <th></th>\n",
       "      <th></th>\n",
       "      <th></th>\n",
       "      <th></th>\n",
       "      <th></th>\n",
       "      <th></th>\n",
       "      <th></th>\n",
       "      <th></th>\n",
       "      <th></th>\n",
       "      <th></th>\n",
       "      <th></th>\n",
       "      <th></th>\n",
       "      <th></th>\n",
       "      <th></th>\n",
       "      <th></th>\n",
       "      <th></th>\n",
       "      <th></th>\n",
       "      <th></th>\n",
       "      <th></th>\n",
       "      <th></th>\n",
       "      <th></th>\n",
       "    </tr>\n",
       "  </thead>\n",
       "  <tbody>\n",
       "    <tr>\n",
       "      <th>Gnai3</th>\n",
       "      <td>6.003730</td>\n",
       "      <td>6.717884</td>\n",
       "      <td>5.879887</td>\n",
       "      <td>6.126242</td>\n",
       "      <td>6.911103</td>\n",
       "      <td>6.647521</td>\n",
       "      <td>6.415873</td>\n",
       "      <td>6.061517</td>\n",
       "      <td>6.073213</td>\n",
       "      <td>6.198332</td>\n",
       "      <td>...</td>\n",
       "      <td>9.713097</td>\n",
       "      <td>12.408170</td>\n",
       "      <td>11.925100</td>\n",
       "      <td>11.796491</td>\n",
       "      <td>11.335134</td>\n",
       "      <td>12.397634</td>\n",
       "      <td>13.405191</td>\n",
       "      <td>9.369862</td>\n",
       "      <td>12.053689</td>\n",
       "      <td>13.110332</td>\n",
       "    </tr>\n",
       "    <tr>\n",
       "      <th>Pbsn</th>\n",
       "      <td>0.157460</td>\n",
       "      <td>0.153849</td>\n",
       "      <td>0.154648</td>\n",
       "      <td>0.150461</td>\n",
       "      <td>0.150191</td>\n",
       "      <td>0.149977</td>\n",
       "      <td>0.147436</td>\n",
       "      <td>0.146877</td>\n",
       "      <td>0.147456</td>\n",
       "      <td>0.149704</td>\n",
       "      <td>...</td>\n",
       "      <td>0.324236</td>\n",
       "      <td>0.330234</td>\n",
       "      <td>0.328160</td>\n",
       "      <td>0.311731</td>\n",
       "      <td>0.315161</td>\n",
       "      <td>0.320094</td>\n",
       "      <td>0.319713</td>\n",
       "      <td>0.320536</td>\n",
       "      <td>0.318293</td>\n",
       "      <td>0.316961</td>\n",
       "    </tr>\n",
       "    <tr>\n",
       "      <th>Cdc45</th>\n",
       "      <td>1.660414</td>\n",
       "      <td>2.025149</td>\n",
       "      <td>1.638161</td>\n",
       "      <td>2.320365</td>\n",
       "      <td>1.705641</td>\n",
       "      <td>2.326299</td>\n",
       "      <td>2.125218</td>\n",
       "      <td>2.190152</td>\n",
       "      <td>2.139593</td>\n",
       "      <td>1.537633</td>\n",
       "      <td>...</td>\n",
       "      <td>2.460072</td>\n",
       "      <td>3.078061</td>\n",
       "      <td>3.840317</td>\n",
       "      <td>2.857121</td>\n",
       "      <td>3.299295</td>\n",
       "      <td>2.962622</td>\n",
       "      <td>4.512856</td>\n",
       "      <td>3.729228</td>\n",
       "      <td>2.972924</td>\n",
       "      <td>4.147524</td>\n",
       "    </tr>\n",
       "    <tr>\n",
       "      <th>H19</th>\n",
       "      <td>1.151994</td>\n",
       "      <td>1.616525</td>\n",
       "      <td>1.570316</td>\n",
       "      <td>0.150461</td>\n",
       "      <td>0.749839</td>\n",
       "      <td>0.149977</td>\n",
       "      <td>1.063427</td>\n",
       "      <td>1.511052</td>\n",
       "      <td>1.439036</td>\n",
       "      <td>1.091345</td>\n",
       "      <td>...</td>\n",
       "      <td>3.725690</td>\n",
       "      <td>3.331363</td>\n",
       "      <td>4.060742</td>\n",
       "      <td>2.495034</td>\n",
       "      <td>2.502888</td>\n",
       "      <td>2.530673</td>\n",
       "      <td>3.038688</td>\n",
       "      <td>0.320536</td>\n",
       "      <td>2.522001</td>\n",
       "      <td>0.316961</td>\n",
       "    </tr>\n",
       "    <tr>\n",
       "      <th>Scml2</th>\n",
       "      <td>1.369270</td>\n",
       "      <td>0.153849</td>\n",
       "      <td>1.320171</td>\n",
       "      <td>1.523063</td>\n",
       "      <td>1.658413</td>\n",
       "      <td>1.358042</td>\n",
       "      <td>1.617542</td>\n",
       "      <td>1.463084</td>\n",
       "      <td>2.519570</td>\n",
       "      <td>2.724351</td>\n",
       "      <td>...</td>\n",
       "      <td>2.023284</td>\n",
       "      <td>2.076867</td>\n",
       "      <td>0.328160</td>\n",
       "      <td>1.909401</td>\n",
       "      <td>1.937866</td>\n",
       "      <td>0.320094</td>\n",
       "      <td>4.735587</td>\n",
       "      <td>4.830414</td>\n",
       "      <td>4.890850</td>\n",
       "      <td>5.219754</td>\n",
       "    </tr>\n",
       "  </tbody>\n",
       "</table>\n",
       "<p>5 rows × 307 columns</p>\n",
       "</div>"
      ],
      "text/plain": [
       "       SRR8477377  SRR8477378  SRR8477379  SRR8477380  SRR8477381  SRR8477383  \\\n",
       "gene                                                                            \n",
       "Gnai3    6.003730    6.717884    5.879887    6.126242    6.911103    6.647521   \n",
       "Pbsn     0.157460    0.153849    0.154648    0.150461    0.150191    0.149977   \n",
       "Cdc45    1.660414    2.025149    1.638161    2.320365    1.705641    2.326299   \n",
       "H19      1.151994    1.616525    1.570316    0.150461    0.749839    0.149977   \n",
       "Scml2    1.369270    0.153849    1.320171    1.523063    1.658413    1.358042   \n",
       "\n",
       "       SRR8477384  SRR8477385  SRR8477386  SRR8477387  ...  SRR8477701  \\\n",
       "gene                                                   ...               \n",
       "Gnai3    6.415873    6.061517    6.073213    6.198332  ...    9.713097   \n",
       "Pbsn     0.147436    0.146877    0.147456    0.149704  ...    0.324236   \n",
       "Cdc45    2.125218    2.190152    2.139593    1.537633  ...    2.460072   \n",
       "H19      1.063427    1.511052    1.439036    1.091345  ...    3.725690   \n",
       "Scml2    1.617542    1.463084    2.519570    2.724351  ...    2.023284   \n",
       "\n",
       "       SRR8477702  SRR8477703  SRR8477704  SRR8477705  SRR8477706  SRR8477707  \\\n",
       "gene                                                                            \n",
       "Gnai3   12.408170   11.925100   11.796491   11.335134   12.397634   13.405191   \n",
       "Pbsn     0.330234    0.328160    0.311731    0.315161    0.320094    0.319713   \n",
       "Cdc45    3.078061    3.840317    2.857121    3.299295    2.962622    4.512856   \n",
       "H19      3.331363    4.060742    2.495034    2.502888    2.530673    3.038688   \n",
       "Scml2    2.076867    0.328160    1.909401    1.937866    0.320094    4.735587   \n",
       "\n",
       "       SRR8477708  SRR8477709  SRR8477710  \n",
       "gene                                       \n",
       "Gnai3    9.369862   12.053689   13.110332  \n",
       "Pbsn     0.320536    0.318293    0.316961  \n",
       "Cdc45    3.729228    2.972924    4.147524  \n",
       "H19      0.320536    2.522001    0.316961  \n",
       "Scml2    4.830414    4.890850    5.219754  \n",
       "\n",
       "[5 rows x 307 columns]"
      ]
     },
     "execution_count": 87,
     "metadata": {},
     "output_type": "execute_result"
    }
   ],
   "source": [
    "# overview of the first five rows of our dataframe\n",
    "df.head()"
   ]
  },
  {
   "cell_type": "code",
   "execution_count": 88,
   "id": "d1e2c421-a81f-4c7b-a639-ed808d430442",
   "metadata": {},
   "outputs": [
    {
     "data": {
      "text/plain": [
       "37742"
      ]
     },
     "execution_count": 88,
     "metadata": {},
     "output_type": "execute_result"
    }
   ],
   "source": [
    "# check how many unique genes we have\n",
    "df.index.nunique()"
   ]
  },
  {
   "cell_type": "code",
   "execution_count": 129,
   "id": "2d28a4f8-07aa-4389-9a85-e15487b8b23d",
   "metadata": {},
   "outputs": [
    {
     "data": {
      "text/plain": [
       "Text(0.5, 1.0, 'Per-gene Median Expression Ranges Density Plot')"
      ]
     },
     "execution_count": 129,
     "metadata": {},
     "output_type": "execute_result"
    },
    {
     "data": {
      "image/png": "[encoded data removed]",
      "text/plain": [
       "<Figure size 640x480 with 1 Axes>"
      ]
     },
     "metadata": {},
     "output_type": "display_data"
    }
   ],
   "source": [
    "# log-scale our data\n",
    "df_log = np.log1p(df)\n",
    "# get per-gene median expression ranges\n",
    "log_median_expression = df_log.median(axis=1)\n",
    "# plot the median expression ranges:\n",
    "log_median_expression.plot.density()\n",
    "plt.xlabel('Median Expression Ranges (log)')\n",
    "plt.title('Per-gene Median Expression Ranges Density Plot')"
   ]
  },
  {
   "cell_type": "markdown",
   "id": "22aa0245-9ef0-4ce4-8bee-ce68ce30d9f8",
   "metadata": {},
   "source": [
    "## Part 1 **Answer**\n",
    "\n",
    "Our gene matrix has 37779 rows with 307 columns. We have 37742 unique genes. From the Density plot shown above, we can see that most of our genes have little expression (first peak). The second peak shows that a sizeable amount has medium expression. Few genes have very high expression, forming the long tail we see to the right of the second peak."
   ]
  },
  {
   "cell_type": "markdown",
   "id": "df8b959b-c31e-4a8d-ab25-c96d1e5f73b1",
   "metadata": {},
   "source": [
    "## Part 2"
   ]
  },
  {
   "cell_type": "code",
   "execution_count": 173,
   "id": "3d06a2c0-8184-4297-81e5-a32a292ec398",
   "metadata": {},
   "outputs": [],
   "source": [
    "from sklearn.decomposition import PCA\n",
    "from sklearn.preprocessing import StandardScaler"
   ]
  },
  {
   "cell_type": "code",
   "execution_count": 174,
   "id": "074f329c-6b8c-4e66-931b-25c677fe9a84",
   "metadata": {},
   "outputs": [],
   "source": [
    "# load metadata into a dataframe\n",
    "metadata = pd.read_csv(\"SRP181622/metadata_SRP181622.tsv\", sep='\\t', index_col=0)"
   ]
  },
  {
   "cell_type": "code",
   "execution_count": 175,
   "id": "df313daa-3a9a-400d-b483-f3cb5fe3b511",
   "metadata": {},
   "outputs": [],
   "source": [
    "# transpose our data\n",
    "df_transpose = df.T"
   ]
  },
  {
   "cell_type": "code",
   "execution_count": 176,
   "id": "1883cfb3-beab-4f0a-b4c5-2c4ff99ebd0e",
   "metadata": {},
   "outputs": [],
   "source": [
    "# create a list to hold if a sample type (Control or Stress)\n",
    "sample_type = []\n",
    "for sample in metadata.index:\n",
    "    if (sample in df_transpose.index):\n",
    "        if ('Control' in metadata['refinebio_title'][sample]):\n",
    "            sample_type.append('Control')\n",
    "        else:\n",
    "            sample_type.append('Stress')"
   ]
  },
  {
   "cell_type": "code",
   "execution_count": 177,
   "id": "ce80e5e7-f597-4b97-b0bf-792f2da235d0",
   "metadata": {},
   "outputs": [],
   "source": [
    "# scale our data\n",
    "scaled_data = df_transpose.loc[:, df_transpose.columns].values\n",
    "scaled_data = StandardScaler().fit_transform(scaled_data)"
   ]
  },
  {
   "cell_type": "code",
   "execution_count": 178,
   "id": "1c1a7adc-3e65-409e-846a-1d8ebddedb22",
   "metadata": {},
   "outputs": [],
   "source": [
    "# create our PCA\n",
    "pca = PCA(n_components=2)\n",
    "principal_components = pca.fit_transform(scaled_data)"
   ]
  },
  {
   "cell_type": "code",
   "execution_count": 179,
   "id": "71bb4132-a2d6-4b4a-9f7f-cb1762ae3456",
   "metadata": {},
   "outputs": [
    {
     "data": {
      "text/html": [
       "<div>\n",
       "<style scoped>\n",
       "    .dataframe tbody tr th:only-of-type {\n",
       "        vertical-align: middle;\n",
       "    }\n",
       "\n",
       "    .dataframe tbody tr th {\n",
       "        vertical-align: top;\n",
       "    }\n",
       "\n",
       "    .dataframe thead th {\n",
       "        text-align: right;\n",
       "    }\n",
       "</style>\n",
       "<table border=\"1\" class=\"dataframe\">\n",
       "  <thead>\n",
       "    <tr style=\"text-align: right;\">\n",
       "      <th></th>\n",
       "      <th>PC1</th>\n",
       "      <th>PC2</th>\n",
       "      <th>Group</th>\n",
       "    </tr>\n",
       "  </thead>\n",
       "  <tbody>\n",
       "    <tr>\n",
       "      <th>SRR8477377</th>\n",
       "      <td>-70.216586</td>\n",
       "      <td>-26.556271</td>\n",
       "      <td>Control</td>\n",
       "    </tr>\n",
       "    <tr>\n",
       "      <th>SRR8477378</th>\n",
       "      <td>-72.791696</td>\n",
       "      <td>-25.253102</td>\n",
       "      <td>Control</td>\n",
       "    </tr>\n",
       "    <tr>\n",
       "      <th>SRR8477379</th>\n",
       "      <td>-72.873541</td>\n",
       "      <td>-25.299709</td>\n",
       "      <td>Control</td>\n",
       "    </tr>\n",
       "    <tr>\n",
       "      <th>SRR8477380</th>\n",
       "      <td>-79.368934</td>\n",
       "      <td>-0.559727</td>\n",
       "      <td>Control</td>\n",
       "    </tr>\n",
       "    <tr>\n",
       "      <th>SRR8477381</th>\n",
       "      <td>-79.600030</td>\n",
       "      <td>-0.695150</td>\n",
       "      <td>Control</td>\n",
       "    </tr>\n",
       "    <tr>\n",
       "      <th>...</th>\n",
       "      <td>...</td>\n",
       "      <td>...</td>\n",
       "      <td>...</td>\n",
       "    </tr>\n",
       "    <tr>\n",
       "      <th>SRR8477706</th>\n",
       "      <td>205.077291</td>\n",
       "      <td>-4.263366</td>\n",
       "      <td>Stress</td>\n",
       "    </tr>\n",
       "    <tr>\n",
       "      <th>SRR8477707</th>\n",
       "      <td>205.317975</td>\n",
       "      <td>-4.238471</td>\n",
       "      <td>Stress</td>\n",
       "    </tr>\n",
       "    <tr>\n",
       "      <th>SRR8477708</th>\n",
       "      <td>204.466730</td>\n",
       "      <td>-5.868123</td>\n",
       "      <td>Stress</td>\n",
       "    </tr>\n",
       "    <tr>\n",
       "      <th>SRR8477709</th>\n",
       "      <td>204.328440</td>\n",
       "      <td>-5.352645</td>\n",
       "      <td>Stress</td>\n",
       "    </tr>\n",
       "    <tr>\n",
       "      <th>SRR8477710</th>\n",
       "      <td>196.970883</td>\n",
       "      <td>-3.903814</td>\n",
       "      <td>Stress</td>\n",
       "    </tr>\n",
       "  </tbody>\n",
       "</table>\n",
       "<p>307 rows × 3 columns</p>\n",
       "</div>"
      ],
      "text/plain": [
       "                   PC1        PC2    Group\n",
       "SRR8477377  -70.216586 -26.556271  Control\n",
       "SRR8477378  -72.791696 -25.253102  Control\n",
       "SRR8477379  -72.873541 -25.299709  Control\n",
       "SRR8477380  -79.368934  -0.559727  Control\n",
       "SRR8477381  -79.600030  -0.695150  Control\n",
       "...                ...        ...      ...\n",
       "SRR8477706  205.077291  -4.263366   Stress\n",
       "SRR8477707  205.317975  -4.238471   Stress\n",
       "SRR8477708  204.466730  -5.868123   Stress\n",
       "SRR8477709  204.328440  -5.352645   Stress\n",
       "SRR8477710  196.970883  -3.903814   Stress\n",
       "\n",
       "[307 rows x 3 columns]"
      ]
     },
     "execution_count": 179,
     "metadata": {},
     "output_type": "execute_result"
    }
   ],
   "source": [
    "# create PCA dataframe\n",
    "pca_df = pd.DataFrame(data=principal_components, columns=[\"PC1\", \"PC2\"], index=df_transpose.index)\n",
    "pca_df['Group'] = sample_type #add group column to dataframe\n",
    "pca_df"
   ]
  },
  {
   "cell_type": "code",
   "execution_count": 180,
   "id": "bc057367-45d1-49bc-b3a5-6ab72620f076",
   "metadata": {},
   "outputs": [
    {
     "data": {
      "image/png": "[encoded data removed]",
      "text/plain": [
       "<Figure size 800x600 with 1 Axes>"
      ]
     },
     "metadata": {},
     "output_type": "display_data"
    }
   ],
   "source": [
    "plt.figure(figsize=(8,6))\n",
    "colors = {\"Control\": \"blue\", \"Stress\": \"orange\"}\n",
    "\n",
    "for group, subset in pca_df.groupby(\"Group\"):\n",
    "    plt.scatter(subset[\"PC1\"], subset[\"PC2\"], label=group, c=colors[group])\n",
    "\n",
    "plt.xlabel(f\"PC1 ({pca.explained_variance_ratio_[0]*100:.1f}% var)\")\n",
    "plt.ylabel(f\"PC2 ({pca.explained_variance_ratio_[1]*100:.1f}% var)\")\n",
    "plt.title(\"PCA of Samples (Control vs Treatment)\")\n",
    "plt.legend()\n",
    "plt.grid(True)\n",
    "plt.show()"
   ]
  },
  {
   "cell_type": "code",
   "execution_count": null,
   "id": "59df033a-6e3b-4b24-a0cf-e46ecd0f2bd5",
   "metadata": {},
   "outputs": [],
   "source": []
  }
 ],
 "metadata": {
  "kernelspec": {
   "display_name": "Python 3 (ipykernel)",
   "language": "python",
   "name": "python3"
  },
  "language_info": {
   "codemirror_mode": {
    "name": "ipython",
    "version": 3
   },
   "file_extension": ".py",
   "mimetype": "text/x-python",
   "name": "python",
   "nbconvert_exporter": "python",
   "pygments_lexer": "ipython3",
   "version": "3.12.4"
  }
 },
 "nbformat": 4,
 "nbformat_minor": 5
}
